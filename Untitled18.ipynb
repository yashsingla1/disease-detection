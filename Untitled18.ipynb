{
 "cells": [
  {
   "cell_type": "code",
   "execution_count": 1,
   "id": "eb38409f",
   "metadata": {},
   "outputs": [],
   "source": [
    "import tensorflow as tf\n",
    "from tensorflow.keras import models ,layers\n",
    "#import matplotlib.pyplot as plt\n",
    "import os\n",
    "import tensorflow as tf\n",
    "import keras\n",
    "from tensorflow.keras.models import Model\n",
    "from tensorflow.keras.utils import plot_model\n",
    "from tensorflow.keras.models import Sequential\n",
    "from tensorflow.keras.applications import VGG19\n",
    "from tensorflow.keras.callbacks import EarlyStopping\n",
    "from tensorflow.keras.preprocessing.image import ImageDataGenerator\n",
    "from tensorflow.keras.layers import Input,Lambda,Dense,Flatten,Dropout,BatchNormalization,Activation\n",
    "#from sklearn.metrics import confusion_matrix,classification_report,accuracy_score,recall_score,precision_score,f1_score\n",
    "#import sys\n",
    "#import scipy.io\n",
    "#import scipy.misc\n",
    "#import matplotlib.pyplot as plt\n",
    "#from matplotlib.pyplot import imshow\n",
    "import numpy as np"
   ]
  },
  {
   "cell_type": "code",
   "execution_count": 2,
   "id": "5e99ea4c",
   "metadata": {},
   "outputs": [
    {
     "name": "stdout",
     "output_type": "stream",
     "text": [
      "Found 34070 files belonging to 16 classes.\n"
     ]
    }
   ],
   "source": [
    "dataset =tf.keras.preprocessing.image_dataset_from_directory(\n",
    "    \"PlantVillage\",\n",
    "    shuffle=True,\n",
    "    image_size=(256,256),\n",
    "    batch_size=32,\n",
    ")"
   ]
  },
  {
   "cell_type": "code",
   "execution_count": 3,
   "id": "802594a7",
   "metadata": {},
   "outputs": [
    {
     "data": {
      "text/plain": [
       "['Pepper__bell___Bacterial_spot',\n",
       " 'Pepper__bell___healthy',\n",
       " 'PlantVillage',\n",
       " 'Potato___Early_blight',\n",
       " 'Potato___Late_blight',\n",
       " 'Potato___healthy',\n",
       " 'Tomato_Bacterial_spot',\n",
       " 'Tomato_Early_blight',\n",
       " 'Tomato_Late_blight',\n",
       " 'Tomato_Leaf_Mold',\n",
       " 'Tomato_Septoria_leaf_spot',\n",
       " 'Tomato_Spider_mites_Two_spotted_spider_mite',\n",
       " 'Tomato__Target_Spot',\n",
       " 'Tomato__Tomato_YellowLeaf__Curl_Virus',\n",
       " 'Tomato__Tomato_mosaic_virus',\n",
       " 'Tomato_healthy']"
      ]
     },
     "execution_count": 3,
     "metadata": {},
     "output_type": "execute_result"
    }
   ],
   "source": [
    "class_names=dataset.class_names\n",
    "class_names"
   ]
  },
  {
   "cell_type": "code",
   "execution_count": 4,
   "id": "e0336a55",
   "metadata": {},
   "outputs": [
    {
     "data": {
      "text/plain": [
       "1065"
      ]
     },
     "execution_count": 4,
     "metadata": {},
     "output_type": "execute_result"
    }
   ],
   "source": [
    "len(dataset)"
   ]
  },
  {
   "cell_type": "code",
   "execution_count": 5,
   "id": "38441913",
   "metadata": {},
   "outputs": [
    {
     "data": {
      "text/plain": [
       "852"
      ]
     },
     "execution_count": 5,
     "metadata": {},
     "output_type": "execute_result"
    }
   ],
   "source": [
    "train_size=0.8\n",
    "l=int(len(dataset)*train_size)\n",
    "l"
   ]
  },
  {
   "cell_type": "code",
   "execution_count": 6,
   "id": "33887d4c",
   "metadata": {},
   "outputs": [
    {
     "data": {
      "text/plain": [
       "852"
      ]
     },
     "execution_count": 6,
     "metadata": {},
     "output_type": "execute_result"
    }
   ],
   "source": [
    "train_ds=dataset.take(l)\n",
    "len(train_ds)"
   ]
  },
  {
   "cell_type": "code",
   "execution_count": 7,
   "id": "719fd8da",
   "metadata": {},
   "outputs": [],
   "source": [
    "test_ds=dataset.skip(l)"
   ]
  },
  {
   "cell_type": "code",
   "execution_count": 8,
   "id": "4e52b6c4",
   "metadata": {},
   "outputs": [],
   "source": [
    "val_size=0.1\n",
    "l=int(len(dataset)*val_size)\n",
    "val_ds=test_ds.take(l)"
   ]
  },
  {
   "cell_type": "code",
   "execution_count": null,
   "id": "6355e587",
   "metadata": {},
   "outputs": [],
   "source": []
  },
  {
   "cell_type": "code",
   "execution_count": 9,
   "id": "485957a1",
   "metadata": {},
   "outputs": [
    {
     "data": {
      "text/plain": [
       "852"
      ]
     },
     "execution_count": 9,
     "metadata": {},
     "output_type": "execute_result"
    }
   ],
   "source": [
    "len(train_ds)"
   ]
  },
  {
   "cell_type": "code",
   "execution_count": 10,
   "id": "3f5fc3af",
   "metadata": {},
   "outputs": [
    {
     "data": {
      "text/plain": [
       "106"
      ]
     },
     "execution_count": 10,
     "metadata": {},
     "output_type": "execute_result"
    }
   ],
   "source": [
    "len(val_ds)"
   ]
  },
  {
   "cell_type": "code",
   "execution_count": 11,
   "id": "4f8ece46",
   "metadata": {},
   "outputs": [],
   "source": [
    "test_ds=test_ds.skip(l)"
   ]
  },
  {
   "cell_type": "code",
   "execution_count": 12,
   "id": "237ad962",
   "metadata": {},
   "outputs": [
    {
     "data": {
      "text/plain": [
       "107"
      ]
     },
     "execution_count": 12,
     "metadata": {},
     "output_type": "execute_result"
    }
   ],
   "source": [
    "len(test_ds)"
   ]
  },
  {
   "cell_type": "code",
   "execution_count": 13,
   "id": "542c4552",
   "metadata": {},
   "outputs": [],
   "source": [
    "def get_dataset_partition_tf(ds,train_split=0.8,val_split=0.1,test_split=0.1,shuffle=True,shuffle_size=10000):\n",
    "    ds_size=len(ds)\n",
    "    if shuffle:\n",
    "        ds=ds.shuffle(shuffle_size,seed=12)\n",
    "    train_size=int(ds_size*train_split)\n",
    "    val_size=int(ds_size*val_split)\n",
    "    train_ds=ds.take(train_size)\n",
    "    val_ds=ds.skip(train_size).take(val_size)\n",
    "    test_ds=ds.skip(train_size).skip(val_size)\n",
    "    return train_ds,val_ds,test_ds"
   ]
  },
  {
   "cell_type": "code",
   "execution_count": 14,
   "id": "85aaefc8",
   "metadata": {},
   "outputs": [],
   "source": [
    "train_ds=train_ds.cache().shuffle(1000).prefetch(buffer_size=tf.data.AUTOTUNE)\n",
    "val_ds=val_ds.cache().shuffle(1000).prefetch(buffer_size=tf.data.AUTOTUNE)\n",
    "\n",
    "test_ds=test_ds.cache().shuffle(1000).prefetch(buffer_size=tf.data.AUTOTUNE)\n",
    "\n",
    "IMAGE_SIZE=256\n",
    "train_ds,val_ds,test_ds=get_dataset_partition_tf(dataset)"
   ]
  },
  {
   "cell_type": "code",
   "execution_count": 15,
   "id": "a666a40e",
   "metadata": {},
   "outputs": [],
   "source": [
    "train_ds=train_ds.cache().shuffle(1000).prefetch(buffer_size=tf.data.AUTOTUNE)\n",
    "val_ds=val_ds.cache().shuffle(1000).prefetch(buffer_size=tf.data.AUTOTUNE)\n",
    "\n",
    "test_ds=test_ds.cache().shuffle(1000).prefetch(buffer_size=tf.data.AUTOTUNE)\n",
    "\n",
    "IMAGE_SIZE=256"
   ]
  },
  {
   "cell_type": "code",
   "execution_count": 16,
   "id": "fe915c9e",
   "metadata": {},
   "outputs": [],
   "source": [
    "resize_and_rescale =tf.keras.Sequential([\n",
    "    layers.experimental.preprocessing.Resizing(IMAGE_SIZE,IMAGE_SIZE),\n",
    "    layers.experimental.preprocessing.RandomRotation(0.2)\n",
    "])"
   ]
  },
  {
   "cell_type": "code",
   "execution_count": 17,
   "id": "ff4944f6",
   "metadata": {},
   "outputs": [],
   "source": [
    "data_augmentation = tf.keras.Sequential([\n",
    "        layers.experimental.preprocessing.RandomFlip(\"horizontal_and_vertical\"),\n",
    "        layers.experimental.preprocessing.Resizing(IMAGE_SIZE,IMAGE_SIZE),\n",
    "\n",
    "])"
   ]
  },
  {
   "cell_type": "code",
   "execution_count": 18,
   "id": "a0153be0",
   "metadata": {},
   "outputs": [],
   "source": [
    "CHANNELS=3\n",
    "import os\n",
    "batch_size=32\n",
    "input_shape=(batch_size,IMAGE_SIZE,IMAGE_SIZE, CHANNELS)\n",
    "n_classes=16\n",
    "model=models.Sequential([\n",
    "    resize_and_rescale,\n",
    "    data_augmentation,\n",
    "    layers.Conv2D(32, (3,3),activation='relu', input_shape=input_shape),\n",
    "    layers.MaxPooling2D((2,2)),\n",
    "    layers.Conv2D(64, kernel_size= (3,3) , activation='relu'),\n",
    "    layers.MaxPooling2D((2,2)),\n",
    "    layers.Conv2D(64, kernel_size= (3,3) , activation='relu'),\n",
    "    layers.MaxPooling2D((2,2)),\n",
    "    layers.Conv2D(64, (3,3),activation='relu'),\n",
    "    layers.MaxPooling2D((2,2)),\n",
    "    layers.Conv2D(64, (3,3),activation='relu'),\n",
    "    layers.MaxPooling2D((2,2)),\n",
    "    layers.Conv2D(64, (3,3),activation='relu'),\n",
    "    layers.MaxPooling2D((2,2)),\n",
    "    layers.Flatten(),\n",
    "    layers.Dense(64,activation='relu'),\n",
    "    layers.Dense(n_classes , activation = 'softmax')\n",
    "])\n",
    "model.build(input_shape=input_shape)"
   ]
  },
  {
   "cell_type": "code",
   "execution_count": 19,
   "id": "6231e708",
   "metadata": {},
   "outputs": [
    {
     "name": "stdout",
     "output_type": "stream",
     "text": [
      "Model: \"sequential_2\"\n",
      "_________________________________________________________________\n",
      "Layer (type)                 Output Shape              Param #   \n",
      "=================================================================\n",
      "sequential (Sequential)      (32, 256, 256, 3)         0         \n",
      "_________________________________________________________________\n",
      "sequential_1 (Sequential)    (32, 256, 256, 3)         0         \n",
      "_________________________________________________________________\n",
      "conv2d (Conv2D)              (32, 254, 254, 32)        896       \n",
      "_________________________________________________________________\n",
      "max_pooling2d (MaxPooling2D) (32, 127, 127, 32)        0         \n",
      "_________________________________________________________________\n",
      "conv2d_1 (Conv2D)            (32, 125, 125, 64)        18496     \n",
      "_________________________________________________________________\n",
      "max_pooling2d_1 (MaxPooling2 (32, 62, 62, 64)          0         \n",
      "_________________________________________________________________\n",
      "conv2d_2 (Conv2D)            (32, 60, 60, 64)          36928     \n",
      "_________________________________________________________________\n",
      "max_pooling2d_2 (MaxPooling2 (32, 30, 30, 64)          0         \n",
      "_________________________________________________________________\n",
      "conv2d_3 (Conv2D)            (32, 28, 28, 64)          36928     \n",
      "_________________________________________________________________\n",
      "max_pooling2d_3 (MaxPooling2 (32, 14, 14, 64)          0         \n",
      "_________________________________________________________________\n",
      "conv2d_4 (Conv2D)            (32, 12, 12, 64)          36928     \n",
      "_________________________________________________________________\n",
      "max_pooling2d_4 (MaxPooling2 (32, 6, 6, 64)            0         \n",
      "_________________________________________________________________\n",
      "conv2d_5 (Conv2D)            (32, 4, 4, 64)            36928     \n",
      "_________________________________________________________________\n",
      "max_pooling2d_5 (MaxPooling2 (32, 2, 2, 64)            0         \n",
      "_________________________________________________________________\n",
      "flatten (Flatten)            (32, 256)                 0         \n",
      "_________________________________________________________________\n",
      "dense (Dense)                (32, 64)                  16448     \n",
      "_________________________________________________________________\n",
      "dense_1 (Dense)              (32, 16)                  1040      \n",
      "=================================================================\n",
      "Total params: 184,592\n",
      "Trainable params: 184,592\n",
      "Non-trainable params: 0\n",
      "_________________________________________________________________\n"
     ]
    }
   ],
   "source": [
    "model.summary()"
   ]
  },
  {
   "cell_type": "code",
   "execution_count": 20,
   "id": "92f6c26a",
   "metadata": {},
   "outputs": [],
   "source": [
    "model.compile(\n",
    "    optimizer='adam',\n",
    "    loss=tf.keras.losses.SparseCategoricalCrossentropy(from_logits=False),\n",
    "    metrics=['accuracy']\n",
    "    \n",
    "\n",
    ")"
   ]
  },
  {
   "cell_type": "code",
   "execution_count": 21,
   "id": "54d7b39f",
   "metadata": {},
   "outputs": [],
   "source": [
    "EPOCHS=50"
   ]
  },
  {
   "cell_type": "code",
   "execution_count": null,
   "id": "46d434f5",
   "metadata": {},
   "outputs": [
    {
     "name": "stdout",
     "output_type": "stream",
     "text": [
      "Epoch 1/50\n",
      "852/852 [==============================] - 241s 196ms/step - loss: 1.5786 - accuracy: 0.6004 - val_loss: 1.3980 - val_accuracy: 0.6129\n",
      "Epoch 2/50\n",
      "852/852 [==============================] - 124s 145ms/step - loss: 1.2844 - accuracy: 0.5939 - val_loss: 1.1566 - val_accuracy: 0.6032\n",
      "Epoch 3/50\n",
      "852/852 [==============================] - 121s 142ms/step - loss: 1.1450 - accuracy: 0.5917 - val_loss: 1.0947 - val_accuracy: 0.5846\n",
      "Epoch 4/50\n",
      "852/852 [==============================] - 121s 142ms/step - loss: 1.0653 - accuracy: 0.5891 - val_loss: 1.0474 - val_accuracy: 0.5855\n",
      "Epoch 5/50\n",
      "852/852 [==============================] - 124s 146ms/step - loss: 1.0233 - accuracy: 0.5945 - val_loss: 1.0649 - val_accuracy: 0.5929\n",
      "Epoch 6/50\n",
      "852/852 [==============================] - 122s 143ms/step - loss: 0.9857 - accuracy: 0.5939 - val_loss: 0.9668 - val_accuracy: 0.6076\n",
      "Epoch 7/50\n",
      "852/852 [==============================] - 122s 143ms/step - loss: 0.9605 - accuracy: 0.5949 - val_loss: 1.0046 - val_accuracy: 0.5834\n",
      "Epoch 8/50\n",
      "852/852 [==============================] - 122s 144ms/step - loss: 0.9349 - accuracy: 0.5962 - val_loss: 0.9938 - val_accuracy: 0.5952\n",
      "Epoch 9/50\n",
      "852/852 [==============================] - 122s 143ms/step - loss: 0.9167 - accuracy: 0.5977 - val_loss: 0.9264 - val_accuracy: 0.5961\n",
      "Epoch 10/50\n",
      "852/852 [==============================] - 120s 141ms/step - loss: 0.9131 - accuracy: 0.5971 - val_loss: 0.8945 - val_accuracy: 0.5976\n",
      "Epoch 11/50\n",
      "852/852 [==============================] - 121s 142ms/step - loss: 0.8960 - accuracy: 0.5986 - val_loss: 0.9768 - val_accuracy: 0.5914\n",
      "Epoch 12/50\n",
      "852/852 [==============================] - 121s 142ms/step - loss: 0.8848 - accuracy: 0.5964 - val_loss: 0.9029 - val_accuracy: 0.5616\n",
      "Epoch 13/50\n",
      "852/852 [==============================] - 122s 143ms/step - loss: 0.8905 - accuracy: 0.5969 - val_loss: 0.8994 - val_accuracy: 0.5940\n",
      "Epoch 14/50\n",
      "852/852 [==============================] - 123s 144ms/step - loss: 0.8834 - accuracy: 0.5966 - val_loss: 0.9380 - val_accuracy: 0.5999\n",
      "Epoch 15/50\n",
      "852/852 [==============================] - 122s 143ms/step - loss: 0.8697 - accuracy: 0.5975 - val_loss: 0.8932 - val_accuracy: 0.5991\n",
      "Epoch 16/50\n",
      "852/852 [==============================] - 123s 144ms/step - loss: 0.8636 - accuracy: 0.5982 - val_loss: 0.9212 - val_accuracy: 0.5970\n",
      "Epoch 17/50\n",
      "852/852 [==============================] - 120s 141ms/step - loss: 0.8569 - accuracy: 0.5971 - val_loss: 0.8303 - val_accuracy: 0.6011\n",
      "Epoch 18/50\n",
      "852/852 [==============================] - 123s 144ms/step - loss: 0.8561 - accuracy: 0.5947 - val_loss: 0.9307 - val_accuracy: 0.6029\n",
      "Epoch 19/50\n",
      "852/852 [==============================] - 125s 146ms/step - loss: 0.8458 - accuracy: 0.5988 - val_loss: 0.8502 - val_accuracy: 0.6129\n",
      "Epoch 20/50\n",
      "852/852 [==============================] - 355s 417ms/step - loss: 0.8449 - accuracy: 0.5979 - val_loss: 0.8656 - val_accuracy: 0.5964\n",
      "Epoch 21/50\n",
      "852/852 [==============================] - 123s 144ms/step - loss: 0.8591 - accuracy: 0.5937 - val_loss: 0.9422 - val_accuracy: 0.6094\n",
      "Epoch 22/50\n",
      "852/852 [==============================] - 120s 141ms/step - loss: 0.8418 - accuracy: 0.5955 - val_loss: 0.8473 - val_accuracy: 0.5935\n",
      "Epoch 23/50\n",
      "852/852 [==============================] - 121s 142ms/step - loss: 0.8401 - accuracy: 0.5957 - val_loss: 0.8441 - val_accuracy: 0.6047\n",
      "Epoch 24/50\n",
      "852/852 [==============================] - 118s 139ms/step - loss: 0.8366 - accuracy: 0.5987 - val_loss: 0.8769 - val_accuracy: 0.6117\n",
      "Epoch 25/50\n",
      "852/852 [==============================] - 1680s 2s/step - loss: 0.8329 - accuracy: 0.5954 - val_loss: 0.8945 - val_accuracy: 0.6011\n",
      "Epoch 26/50\n",
      "852/852 [==============================] - 124s 145ms/step - loss: 0.8287 - accuracy: 0.5962 - val_loss: 0.8431 - val_accuracy: 0.6111\n",
      "Epoch 27/50\n",
      "852/852 [==============================] - 124s 145ms/step - loss: 0.8344 - accuracy: 0.5961 - val_loss: 0.9013 - val_accuracy: 0.6052\n",
      "Epoch 28/50\n",
      "852/852 [==============================] - 123s 144ms/step - loss: 0.8299 - accuracy: 0.5980 - val_loss: 0.8547 - val_accuracy: 0.5996\n",
      "Epoch 29/50\n",
      "852/852 [==============================] - 122s 143ms/step - loss: 0.8370 - accuracy: 0.5955 - val_loss: 0.8851 - val_accuracy: 0.6111\n",
      "Epoch 30/50\n",
      "852/852 [==============================] - 123s 144ms/step - loss: 0.8339 - accuracy: 0.6004 - val_loss: 0.8790 - val_accuracy: 0.6073\n",
      "Epoch 31/50\n",
      "852/852 [==============================] - 122s 143ms/step - loss: 0.8283 - accuracy: 0.6009 - val_loss: 0.8470 - val_accuracy: 0.6002\n",
      "Epoch 32/50\n",
      "852/852 [==============================] - 120s 141ms/step - loss: 0.8298 - accuracy: 0.5986 - val_loss: 0.8048 - val_accuracy: 0.6064\n",
      "Epoch 33/50\n",
      "852/852 [==============================] - 123s 144ms/step - loss: 0.8301 - accuracy: 0.5982 - val_loss: 1.0326 - val_accuracy: 0.6029\n",
      "Epoch 34/50\n",
      "852/852 [==============================] - 122s 144ms/step - loss: 0.8280 - accuracy: 0.5994 - val_loss: 0.8380 - val_accuracy: 0.6023\n",
      "Epoch 35/50\n",
      "852/852 [==============================] - 122s 143ms/step - loss: 0.8233 - accuracy: 0.5991 - val_loss: 0.8421 - val_accuracy: 0.6120\n",
      "Epoch 36/50\n",
      "852/852 [==============================] - 121s 142ms/step - loss: 0.8341 - accuracy: 0.5983 - val_loss: 0.8324 - val_accuracy: 0.6017\n",
      "Epoch 37/50\n",
      "852/852 [==============================] - 752s 884ms/step - loss: 0.8312 - accuracy: 0.5986 - val_loss: 0.8905 - val_accuracy: 0.5899\n",
      "Epoch 38/50\n",
      "852/852 [==============================] - 176s 206ms/step - loss: 0.8205 - accuracy: 0.5983 - val_loss: 0.8696 - val_accuracy: 0.5767\n",
      "Epoch 39/50\n",
      "852/852 [==============================] - 11816s 14s/step - loss: 0.8218 - accuracy: 0.5972 - val_loss: 0.9021 - val_accuracy: 0.5952\n",
      "Epoch 40/50\n",
      "852/852 [==============================] - 178s 209ms/step - loss: 0.8237 - accuracy: 0.5961 - val_loss: 0.8571 - val_accuracy: 0.6055\n",
      "Epoch 41/50\n",
      "852/852 [==============================] - 179s 210ms/step - loss: 0.8265 - accuracy: 0.5982 - val_loss: 0.8506 - val_accuracy: 0.6064\n",
      "Epoch 42/50\n",
      "852/852 [==============================] - 178s 209ms/step - loss: 0.8207 - accuracy: 0.5984 - val_loss: 0.9956 - val_accuracy: 0.6008\n",
      "Epoch 43/50\n",
      "852/852 [==============================] - 181s 212ms/step - loss: 0.8354 - accuracy: 0.5975 - val_loss: 0.8172 - val_accuracy: 0.6082\n",
      "Epoch 44/50\n",
      "852/852 [==============================] - 181s 213ms/step - loss: 0.8119 - accuracy: 0.6007 - val_loss: 0.8517 - val_accuracy: 0.5917\n",
      "Epoch 45/50\n",
      "852/852 [==============================] - 174s 205ms/step - loss: 0.8236 - accuracy: 0.6003 - val_loss: 0.8184 - val_accuracy: 0.6150\n",
      "Epoch 46/50\n",
      "852/852 [==============================] - 179s 210ms/step - loss: 0.8232 - accuracy: 0.5964 - val_loss: 0.8465 - val_accuracy: 0.6106\n",
      "Epoch 47/50\n",
      "852/852 [==============================] - 180s 212ms/step - loss: 0.8226 - accuracy: 0.6005 - val_loss: 0.8798 - val_accuracy: 0.5999\n",
      "Epoch 48/50\n",
      "852/852 [==============================] - 179s 210ms/step - loss: 0.8116 - accuracy: 0.5976 - val_loss: 0.8171 - val_accuracy: 0.6073\n",
      "Epoch 49/50\n",
      "852/852 [==============================] - 182s 214ms/step - loss: 0.8201 - accuracy: 0.6006 - val_loss: 0.9086 - val_accuracy: 0.6047\n",
      "Epoch 50/50\n",
      "620/852 [====================>.........] - ETA: 42s - loss: 0.8224 - accuracy: 0.5986"
     ]
    }
   ],
   "source": [
    "history=model.fit(\n",
    "    train_ds,\n",
    "    epochs=EPOCHS,\n",
    "    batch_size=batch_size,\n",
    "    verbose=1,\n",
    "    validation_data=val_ds\n",
    ")"
   ]
  },
  {
   "cell_type": "code",
   "execution_count": null,
   "id": "8779e3d1",
   "metadata": {},
   "outputs": [],
   "source": []
  }
 ],
 "metadata": {
  "kernelspec": {
   "display_name": "Python 3 (ipykernel)",
   "language": "python",
   "name": "python3"
  },
  "language_info": {
   "codemirror_mode": {
    "name": "ipython",
    "version": 3
   },
   "file_extension": ".py",
   "mimetype": "text/x-python",
   "name": "python",
   "nbconvert_exporter": "python",
   "pygments_lexer": "ipython3",
   "version": "3.9.16"
  }
 },
 "nbformat": 4,
 "nbformat_minor": 5
}
